{
 "cells": [
  {
   "cell_type": "markdown",
   "metadata": {},
   "source": [
    "## Surviving Deadlines at HSE - by Magomedov Rustam, MDS Python Basic, final project description\n",
    "\n",
    "_**`Name`**_: _Surviving Deadlines at HSE_\n",
    "\n",
    "_**`Background`**_  \n",
    "Imagine that you are a simple gen-Z programmer trying to live your best life. However, there exists a great challenge to your inner peace - you must work and study at HSE at the same time. And, as everybody knows - there are MANY deadlines at HSE. And of course, no-one really likes when deadlines are approaching. What can one do about it? Certainly, there exists a solution. Have you heard of Red Bull? If you study at HSE, you’ve definitely heard. Red Bull is a single best solution against deadlines.   \n",
    "On a serious note: as a self-taught Python enthusiast with no experience in STEM, I’ve always struggled with Object Oriented Programming. I thought that this final project is a good way to bring some of my skills to practice and to be better acquainted with OOP. I’ve found inspiration in simple Python games, especially Space Invaders (this one is covered pretty much on every course). I’ve decided to build a similar game, slightly modified to fit the reality. \n",
    "\n",
    "_**`Key ideas`**_\n",
    "- You are a programmer at HSE.\n",
    "- The deadlines are approaching at you.\n",
    "- You need to use Red Bull cans to beat deadlines (press `space`)\n",
    "- You can have up to 3 retakes.\n",
    "- If deadlines have approached the left side of the screen, you gain 1 retake (equivalent of -1 life)\n",
    "\n",
    "_**`Rules`**_\n",
    "- DONT let the deadlines approach you. You need to use Red Bull cans to beat deadlines (press `space`)\n",
    "- You can move up (press `W`, language-sensitive - don't use Russian) or down (`S`, also language sensitive) using your keyboard\n",
    "- If deadlines have approached the left side of the screen, you gain 1 retake (equivalent of -1 life). The game restarts after 3 seconds.\n",
    "- If you have more than 3 retakes, the game ends\n",
    "- Each deadline you beat adds 3.5 (minimal passing grade at the HSE) points to your score.\n",
    "\n",
    "_**`Modes`**_\n",
    "I embedded a degree of randomness in the game by introducing\n",
    "- Random number of deadlines deadline waves (m X n) \n",
    "- Random deadline wave positioning\n",
    "- Random speed of cans  \n",
    "\n",
    "This introduces a luck component to the game - beating the best score because you were lucky or instantly losing due to unlucky positioning of a deadline wave\n",
    "\n",
    "_**`Win/lose scenarios`**_  \n",
    "**_Win_:** \n",
    "- this game, in essense, has no winning condition. You play against yourself (or your friends, if you have any) and try to beat the best score.\n",
    "\n",
    "**Lose:** \n",
    "- you can overdose on Red Bull. If more than 15 Red Bulls are on the screen at one time, you instantly lose. So be careful.\n",
    "- you have only 3 retakes. If deadlines approached you more than 3 times, it means that you're expelled from the HSE.\n",
    "\n",
    "**_`Components of the project`:_**   \n",
    "- This notebook describes the meaning, rules and ideas of the game. Following scripts & images are crucial for the game:\n",
    "1. `game_launcher.py` is a main script that initialises the game, launches it and ends it\n",
    "2. `programmer.py` is a script that initialises the programmer, it's properties, size and speed, etc.\n",
    "3. `prog.png` is the image to be used to render the programmer\n",
    "4. `redbull.py` is a script that initialises the red bull cans, their size, speed and properties\n",
    "5. `redbull.png` is the image to render the red bull can\n",
    "6. `deadlines.py` is a script that initialises the \n",
    "7. `clock.png` is the image to render deadlines\n",
    "8. `logs.py` is a script to initialise statistics (score, lives) of the game and conditions of these methods\n",
    "9. `settings.py` is a script to cover the main functionality of objects - their creation, deletion, speed, interaction, collision, etc.\n",
    "\n",
    "The game can be launched from the PyCharm IDE if you have a project imported into it (so that the main script can use Classes and scripts could access the pictures for rendering)  \n",
    "\n",
    "**IMPORTANT**: you need to have `pygame` library installed to run the game (already available in venv)  \n",
    "**ALSO VERY IMPORTANT**: in `programmer.py`, `redbull.py`, `deadlines.py` the path for .png images must be specified and adjusted (for now its my root folder)\n",
    "\n",
    "The code & the game work, I've tested it on multiple occasions and even have a small demo recorded. If you have any questions while checking it, do not hesitate to contact me! \n",
    "\n",
    "Potential reasons why the code won't run on the first try while checking A.K.A things I sadly cannot control :(\n",
    "- No pygame installed\n",
    "- Paths for images are not updated (you need a relative path on your computer with no wildcards)\n",
    "- Python interpreter is not specified/updated"
   ]
  },
  {
   "cell_type": "markdown",
   "metadata": {},
   "source": []
  }
 ],
 "metadata": {
  "kernelspec": {
   "display_name": "Python 3.9.12 ('base')",
   "language": "python",
   "name": "python3"
  },
  "language_info": {
   "codemirror_mode": {
    "name": "ipython",
    "version": 3
   },
   "file_extension": ".py",
   "mimetype": "text/x-python",
   "name": "python",
   "nbconvert_exporter": "python",
   "pygments_lexer": "ipython3",
   "version": "3.9.12"
  },
  "orig_nbformat": 4,
  "vscode": {
   "interpreter": {
    "hash": "cd78fef2128015050713e82ca51c6520b11aee7c9ee8df750520bbbc7384cbaa"
   }
  }
 },
 "nbformat": 4,
 "nbformat_minor": 2
}
