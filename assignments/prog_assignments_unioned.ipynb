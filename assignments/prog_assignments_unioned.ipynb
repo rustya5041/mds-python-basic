{
 "cells": [
  {
   "cell_type": "markdown",
   "metadata": {},
   "source": [
    "    Programming assignments 1 - with honours track"
   ]
  },
  {
   "cell_type": "code",
   "execution_count": null,
   "metadata": {},
   "outputs": [],
   "source": [
    "    # Problem 1\n",
    "# Write a program that greets a user with the message which includes the word 'Hello', a user's name, and punctuation marks. \n",
    "# The program should, first, read a user's name entered from the keyboard and, second, print the greeting to the screen. \n",
    "# Note that there must be a space after the comma, and there is no space before the exclamation mark.\n",
    "\n",
    "print(f\"Hello, {input()}!\")"
   ]
  },
  {
   "cell_type": "code",
   "execution_count": 53,
   "metadata": {},
   "outputs": [
    {
     "name": "stdout",
     "output_type": "stream",
     "text": [
      "/\\___/\\    /\\___/\\    /\\___/\\    \n",
      "(=^o^=)    (=^o^=)    (=^o^=)    \n",
      "(\") (\")__/ (\") (\")__/ (\") (\")__/ "
     ]
    }
   ],
   "source": [
    "    # Problem 2\n",
    "\n",
    "# Sometimes even a simple and funny task could be a tricky one in Python! \n",
    "# Write a program that displays n cats for a given number n from 1 to 9. The image of one cat is 10 × 3 characters long. \n",
    "# There is also an empty column of spaces between two adjacent cats. It is allowed to display an empty column after the last cat. \n",
    "# You can copy the cat from the example below.\n",
    "\n",
    "ears = \"\"\"/\\___/\\    \"\"\" \n",
    "body = \"\"\"(=^o^=)    \"\"\"\n",
    "legs = \"\"\"(\") (\")__/ \"\"\"\n",
    "\n",
    "\n",
    "def draw_cat(n):\n",
    "        print(ears * n, body * n, legs * n, sep = '\\n', end = '')\n",
    "\n",
    "draw_cat(int(input()))"
   ]
  },
  {
   "cell_type": "code",
   "execution_count": null,
   "metadata": {},
   "outputs": [],
   "source": [
    "    # Problem 3\n",
    "# A​ float number is entered from the keyboard. Write a program that converts the data type of this number to integer and prints the result on the screen.\n",
    "\n",
    "print(int(float(input())))"
   ]
  },
  {
   "cell_type": "code",
   "execution_count": null,
   "metadata": {},
   "outputs": [],
   "source": [
    "    # Problem 4\n",
    "# Two numbers a and b are given. Write a program that calculates the hypotenuse of a triangle with the given legs and prints the result on the screen.\n",
    "\n",
    "from math import sqrt\n",
    "\n",
    "a, b = int(input()), int(input())\n",
    "\n",
    "c = (a**2 + b**2) \n",
    "\n",
    "print(sqrt(c))"
   ]
  },
  {
   "cell_type": "code",
   "execution_count": null,
   "metadata": {},
   "outputs": [],
   "source": [
    "    # Problem 5\n",
    "# A three-digit number is given. Write a program that calculates the sum of its digits and displays the result on the screen.\n",
    "\n",
    "print(sum(int(dig) for dig in input()))"
   ]
  },
  {
   "cell_type": "code",
   "execution_count": null,
   "metadata": {},
   "outputs": [],
   "source": [
    "# Problem 6\n",
    "# A positive integer N is given. Write a program that cuts off the last K digits from the entered number and prints the result on the screen. For example, with N = 123456 and K = 3, the result should be 123.\n",
    "\n",
    "n, k = int(input()), int(input())\n",
    "\n",
    "print(str(n)[:-k])"
   ]
  },
  {
   "cell_type": "code",
   "execution_count": null,
   "metadata": {},
   "outputs": [],
   "source": [
    "# Problem 7\n",
    "# Write a program that reads degrees in Celsius (°C) and converts them to degrees in Fahrenheit (°F). The result should be printed on the screen as shown in the example below.\n",
    "\n",
    "c = float(input())\n",
    "f = (9 / 5 * c) + 32\n",
    "\n",
    "print(f\"{c}°C is equal to {f}°F\")"
   ]
  },
  {
   "cell_type": "code",
   "execution_count": null,
   "metadata": {},
   "outputs": [],
   "source": [
    "# Problem 8\n",
    "# Ivan plays Super Mario Bros very successfully and eventually he gets N extra lives. \n",
    "# However, because of the fact that in a 8-bit game it is impossible to store more than 2⁸ or 256 units, the variable in which the number of lives is stored can take values from 0 to 255 only. \n",
    "# Hence, if there are 255 lives and a gamer receives an additional life, the counter will be reseted to zero. How many lives are on the counter?\n",
    "\n",
    "remaining_lifes = (int(input())) % 256\n",
    "\n",
    "print(remaining_lifes)"
   ]
  },
  {
   "cell_type": "code",
   "execution_count": null,
   "metadata": {},
   "outputs": [],
   "source": [
    "# Problem 9\n",
    "# The electronic clock shows the time in the h:mm:ss format, where h is the number of hours, mm is the two-digit number of minutes, and ss is the two-digit number of seconds. \n",
    "# The number of minutes and seconds are padded with zeros to a two-digit number if necessary. N seconds have passed since the beginning of the day. \n",
    "# Write a program that prints on the screen what the clock will show.\n",
    "\n",
    "import datetime\n",
    "\n",
    "print(str(datetime.timedelta(seconds=int(input()))))"
   ]
  },
  {
   "cell_type": "markdown",
   "metadata": {},
   "source": [
    "    Programming assignments 2 - integers, floats"
   ]
  },
  {
   "cell_type": "code",
   "execution_count": 3,
   "metadata": {},
   "outputs": [
    {
     "name": "stdout",
     "output_type": "stream",
     "text": [
      "6\n"
     ]
    }
   ],
   "source": [
    "    # Problem 1\n",
    "# A positive real number X is given. Write a program which prints its first digit after the decimal point. Do not use conditional statements, loops, or strings to solve this problem\n",
    "\n",
    "x = float(input())\n",
    "\n",
    "print(int(x * 10) % 10)"
   ]
  },
  {
   "cell_type": "code",
   "execution_count": 54,
   "metadata": {},
   "outputs": [
    {
     "name": "stdout",
     "output_type": "stream",
     "text": [
      "184 22\n"
     ]
    }
   ],
   "source": [
    "    # Problem 2\n",
    "# Ivan has a deposit of X dollars and Y cents. \n",
    "# The interest rate on the deposit is P percent per year, which is added to the deposit annually, i.e. the amount of the deposit is recalculated annually (recall the idea of compound interest rate). \n",
    "# The fractional part of cents is discarded annually. Determine the size of the deposit in K years.\n",
    "\n",
    "rate, dollars, cents, years = int(input()), int(input()), int(input()), int(input())\n",
    "\n",
    "start_sum = dollars * 100 + cents \n",
    "\n",
    "for i in range(years):\n",
    "     start_sum += int(start_sum * rate / 100)\n",
    "print(int(start_sum / 100), start_sum % 100)"
   ]
  },
  {
   "cell_type": "code",
   "execution_count": null,
   "metadata": {},
   "outputs": [],
   "source": [
    "    # Problem 3\n",
    "# The lengths of the sides of the triangle are given. Write a program which calculates the area of the triangle.\n",
    "\n",
    "from math import sqrt\n",
    "\n",
    "a,b,c = float(input()), float(input()), float(input())\n",
    "\n",
    "s = (a+b+c) / 2 \n",
    "\n",
    "area = sqrt(s*(s-a)*(s-b)*(s-c))\n",
    "\n",
    "if area != round(area):\n",
    "     print(round(area, 5))\n",
    "else:\n",
    "     print(int(area))"
   ]
  },
  {
   "cell_type": "markdown",
   "metadata": {},
   "source": [
    "    Programming assignments 3"
   ]
  },
  {
   "cell_type": "code",
   "execution_count": 6,
   "metadata": {},
   "outputs": [
    {
     "name": "stdout",
     "output_type": "stream",
     "text": [
      "NO\n"
     ]
    }
   ],
   "source": [
    "    # Problem 1\n",
    "# Write a program that determines whether the year is a leap year. The program reads a natural number and prints on the screen YES if the year is a leap year, and NO otherwise. \n",
    "# According to the Gregorian calendar, a year is a leap year if its number is a multiple of 4 but not a multiple of 100, or if it is a multiple of 400.\n",
    "\n",
    "year = int(input())\n",
    "\n",
    "print(\"YES\" if year % 4 == 0 and year % 100 != 0 or year % 400 == 0 else \"NO\")"
   ]
  },
  {
   "cell_type": "code",
   "execution_count": 13,
   "metadata": {},
   "outputs": [
    {
     "name": "stdout",
     "output_type": "stream",
     "text": [
      "NO\n"
     ]
    }
   ],
   "source": [
    "    # Problem 2\n",
    "# The chess bishop moves diagonally. Given two different squares of the chessboard, determine if the bishop can get from the first square to the second in one move.\n",
    "\n",
    "x1, y1, x2, y2 = int(input()), int(input()), int(input()), int(input())\n",
    "\n",
    "print(\"YES\" if abs(x1 - x2) == abs(y1 - y2) else \"NO\")\n"
   ]
  },
  {
   "cell_type": "code",
   "execution_count": 21,
   "metadata": {},
   "outputs": [
    {
     "name": "stdout",
     "output_type": "stream",
     "text": [
      "10\n"
     ]
    }
   ],
   "source": [
    "    # Problem 3\n",
    "# Have you ever watched Masterchef series? Aside from dish quality and plating, one of the most important things which chefs need to master to win is time management. \n",
    "# Let's help them with that! Imagine you can place k scallops in the pan at the same time. \n",
    "# Each scallop must be fried on each side m minutes continuously. What is the shortest time it takes to fry n scallops on both sides?\n",
    "\n",
    "k, m, n = int(input()), int(input()), int(input())\n",
    "\n",
    "print(m*2 if k > n else (n * 2 * m + k - 1) // k)"
   ]
  },
  {
   "cell_type": "code",
   "execution_count": 28,
   "metadata": {},
   "outputs": [
    {
     "name": "stdout",
     "output_type": "stream",
     "text": [
      "1\n"
     ]
    }
   ],
   "source": [
    "    # Problem 4\n",
    "# Write a program that reads two integers A and B and prints on the screen the largest of them. If two numbers are equal, the program is supposed to print the number.\n",
    "\n",
    "print(max(int(input()),int(input())))"
   ]
  },
  {
   "cell_type": "code",
   "execution_count": 29,
   "metadata": {},
   "outputs": [
    {
     "name": "stdout",
     "output_type": "stream",
     "text": [
      "1\n"
     ]
    }
   ],
   "source": [
    "    # Problem 5\n",
    "# Write a program that reads three integers A, B, and C and prints on the screen the largest of them. If three numbers are equal, the program is supposed to print the number.\n",
    "\n",
    "print(max(int(input()),int(input()),int(input())))"
   ]
  },
  {
   "cell_type": "markdown",
   "metadata": {},
   "source": [
    "    Programming assignments 4 - while()"
   ]
  },
  {
   "cell_type": "code",
   "execution_count": 30,
   "metadata": {},
   "outputs": [
    {
     "name": "stdout",
     "output_type": "stream",
     "text": [
      "1 4 9 16 25 36 49 64 81 100\n"
     ]
    }
   ],
   "source": [
    "    # Problem 1\n",
    "# Write a program which for a given integer N prints on the screen in ascending order all natural numbers' squares which do not exceed N.\n",
    "n = int(input())\n",
    "\n",
    "print(*[i**2 for i in range(1, n+1) if i ** 2 <= n])"
   ]
  },
  {
   "cell_type": "code",
   "execution_count": 41,
   "metadata": {},
   "outputs": [
    {
     "name": "stdout",
     "output_type": "stream",
     "text": [
      "1 2 4 8 16 32 64 128 256 512 1024 2048 4096 8192 16384 32768 65536 --- 0.00019598007202148438 seconds ---\n"
     ]
    }
   ],
   "source": [
    "    # Problem 2\n",
    "# For a given number N, print on the screen in ascending order all integer powers of 2 which do not exceed N. \n",
    "# The use of exponentiation operation is strongly prohibited to solve this task!\n",
    "\n",
    "n, i = 100100, 1\n",
    "\n",
    "while i <= n:\n",
    "     print(i, end =' ')\n",
    "     i *= 2"
   ]
  },
  {
   "cell_type": "code",
   "execution_count": 49,
   "metadata": {},
   "outputs": [
    {
     "name": "stdout",
     "output_type": "stream",
     "text": [
      "284\n"
     ]
    }
   ],
   "source": [
    "    # Problem 3\n",
    "# Vasilisa deposited x dollars in a bank account that pays compound interest of p percent, \n",
    "# i.e. interest calculated on the initial principal which also includes all of the accumulated interest from previous periods on a deposit. \n",
    "# According to the deposit's conditions, the fractional part of cents is discarded after calculating interest. \n",
    "# Write a program which calculates in how many years the deposit will be at least y dollars.\n",
    "\n",
    "x,p,y = int(input()) * 100, int(input()), int(input()) * 100\n",
    "\n",
    "years = 0\n",
    "\n",
    "while x < y:\n",
    "     x += int(x * p / 100)\n",
    "     years += 1\n",
    "print(years)\n"
   ]
  },
  {
   "cell_type": "code",
   "execution_count": 55,
   "metadata": {},
   "outputs": [
    {
     "name": "stdout",
     "output_type": "stream",
     "text": [
      "55\n"
     ]
    }
   ],
   "source": [
    "    # Problem 4\n",
    "# The Fibonacci sequence is defined as F[0] = 0, F[1] = 1, ..., F[n] = F[n-1] + F[n-2]. \n",
    "# Write a program which determines the n-th Fibonacci number F[n] for the given number n and prints it on the screen.\n",
    "\n",
    "n = int(input())\n",
    "sp = [0, 1]\n",
    "\n",
    "for i in range(2, n+1):\n",
    "     sp.append(sp[i-1] + sp[i-2])\n",
    "print(sp[n])"
   ]
  },
  {
   "cell_type": "code",
   "execution_count": 52,
   "metadata": {},
   "outputs": [
    {
     "name": "stdout",
     "output_type": "stream",
     "text": [
      "6\n"
     ]
    }
   ],
   "source": [
    "    # Problem 5\n",
    "# The Fibonacci sequence is defined as F[0] = 0, F[1] = 1, ..., F[n] = F[n-1] + F[n-2]. A natural number A is given. \n",
    "# Write a program which determines its index in the sequence of Fibonacci numbers, i.e. prints a number n such that F[n] = A. \n",
    "# If A is not a Fibonacci number, the program should print -1.\n",
    "\n",
    "a = int(input())\n",
    "\n",
    "sp = [0, 1]\n",
    "flag = 0\n",
    "\n",
    "for i in range(2, a+2):\n",
    "     sp.append(sp[i-1] + sp[i-2])\n",
    "     if sp[i] == a != 1:\n",
    "        flag = i\n",
    "        break\n",
    "     elif a == 1:\n",
    "        flag = 1\n",
    "     else:\n",
    "        flag = -1\n",
    "print(flag)"
   ]
  },
  {
   "cell_type": "markdown",
   "metadata": {},
   "source": [
    "    Programming assignments 5 - for()"
   ]
  },
  {
   "cell_type": "code",
   "execution_count": 57,
   "metadata": {},
   "outputs": [
    {
     "name": "stdout",
     "output_type": "stream",
     "text": [
      "1 2 3\n"
     ]
    }
   ],
   "source": [
    "    # Problem 1\n",
    "# Two integers A and B are given (with A ≤ B). Print all integers in a range from A to B inclusive.\n",
    "\n",
    "print(*[i for i in range(int(input()), int(input())+1)])"
   ]
  },
  {
   "cell_type": "code",
   "execution_count": 61,
   "metadata": {},
   "outputs": [
    {
     "name": "stdout",
     "output_type": "stream",
     "text": [
      "20 19 18 17 16 15 14 13\n"
     ]
    }
   ],
   "source": [
    "    # Problem 2\n",
    "# Two integers A and B are given. Print all integers in a range from A to B inclusive in ascending order if A < B, or in descending order otherwise.\n",
    "\n",
    "a, b = int(input()), int(input())\n",
    "\n",
    "print(*[i for i in range(a, b+1)] if a < b else [i for i in range(a, b-1, -1)])"
   ]
  },
  {
   "cell_type": "code",
   "execution_count": 62,
   "metadata": {},
   "outputs": [
    {
     "name": "stdout",
     "output_type": "stream",
     "text": [
      "100\n"
     ]
    }
   ],
   "source": [
    "    # Problem 3\n",
    "# For a given natural number n, calculate the sum 1³ + 2³ + 3³ + ... + n³.\n",
    "\n",
    "print(sum([i**3 for i in range(1, int(input())+1)]))"
   ]
  },
  {
   "cell_type": "code",
   "execution_count": 67,
   "metadata": {},
   "outputs": [
    {
     "name": "stdout",
     "output_type": "stream",
     "text": [
      "5040\n"
     ]
    }
   ],
   "source": [
    "    # Problem 4\n",
    "# Calculate the value of n! for a given non-negative integer n.\n",
    "n, f = int(input()), 1\n",
    "\n",
    "for i in range(1, n+1):\n",
    "     f *= i\n",
    "print(f)"
   ]
  },
  {
   "cell_type": "code",
   "execution_count": 69,
   "metadata": {},
   "outputs": [
    {
     "name": "stdout",
     "output_type": "stream",
     "text": [
      "5913\n"
     ]
    }
   ],
   "source": [
    "    # Problem 5\n",
    "# For a given natural number n, calculate the sum 1! + 2! + 3! + ... + n!. Note that only one loop can be used in this task.\n",
    "\n",
    "n, f, s = int(input()), 1, 0\n",
    "\n",
    "for i in range(1, n+1):\n",
    "        f *= i\n",
    "        s += f\n",
    "print(s)"
   ]
  },
  {
   "cell_type": "code",
   "execution_count": null,
   "metadata": {},
   "outputs": [],
   "source": [
    "    # Problem 6\n",
    "# Write a program that prints n flags for a given number n from 1 to 9. \n",
    "# The image of one flag has a size of 4 × 4 characters. \n",
    "# There is also an empty column made of spaces between two adjacent flags. \n",
    "# It is allowed to print an empty column after the last flag. Each flag must contain its number from 1 to n.\n",
    "\n",
    "n = int(input())\n",
    "\n",
    "n = int(input())\n",
    "\n",
    "flag1 = '+___ '\n",
    "flag2 = ''.join([f'|{i} / ' for i in range(1, n+1)])\n",
    "flag3 = '|__\\ '\n",
    "flag4 = '|    '\n",
    "\n",
    "\n",
    "print(flag1 * n, flag2, flag3 * n, flag4 * n, sep = '\\n', end = ' ')"
   ]
  },
  {
   "cell_type": "code",
   "execution_count": 71,
   "metadata": {},
   "outputs": [
    {
     "name": "stdout",
     "output_type": "stream",
     "text": [
      "2\n"
     ]
    }
   ],
   "source": [
    "    # Problem 7\n",
    "# Several numbers are given. Write a program which counts how many of them are equal to zero and print that amount.\n",
    "n = int(input())\n",
    "\n",
    "print([int(input()) for i in range(n)].count(0))"
   ]
  },
  {
   "cell_type": "code",
   "execution_count": 79,
   "metadata": {},
   "outputs": [
    {
     "name": "stdout",
     "output_type": "stream",
     "text": [
      "another_email@gmail.com\n",
      "another_email@gmail.com\n",
      "another_email@gmail.com\n"
     ]
    }
   ],
   "source": [
    "    # Problem 8\n",
    "# A list of email addresses is given. Write a program which finds all emails with the domain '@gmail.com' and prints them on the screen.\n",
    "\n",
    "n = int(input())\n",
    "\n",
    "for i in range(n):\n",
    "     email = input()\n",
    "     if '@gmail.com' in email:\n",
    "         print(email)\n",
    "\n"
   ]
  },
  {
   "cell_type": "code",
   "execution_count": 80,
   "metadata": {},
   "outputs": [
    {
     "name": "stdout",
     "output_type": "stream",
     "text": [
      "3 x 1 = 3\n",
      "3 x 2 = 6\n",
      "3 x 3 = 9\n",
      "3 x 4 = 12\n",
      "3 x 5 = 15\n",
      "3 x 6 = 18\n",
      "3 x 7 = 21\n",
      "3 x 8 = 24\n",
      "3 x 9 = 27\n",
      "3 x 10 = 30\n"
     ]
    }
   ],
   "source": [
    "    # Problem 9\n",
    "# Write a Python program to create the multiplication table (from 1 to 10) of an entered integer n.\n",
    "\n",
    "n = int(input())\n",
    "\n",
    "print(*[f'{n} x {i} = {n*i}' for i in range(1, 11)], sep = '\\n')"
   ]
  },
  {
   "cell_type": "code",
   "execution_count": 81,
   "metadata": {},
   "outputs": [
    {
     "name": "stdout",
     "output_type": "stream",
     "text": [
      "7007 7117 7227 7337 7447 7557 7667 7777 7887 7997 8008 8118 8228 8338 8448 8558 8668 8778 8888 8998\n"
     ]
    }
   ],
   "source": [
    "    # Problem 10\n",
    "# Two four-digit numbers A and B are given. \n",
    "# Output all four-digit numbers in the range from A to B, the record of which is a palindrome, i.e. a number or other sequence of characters which reads the same backward as forward.\n",
    "a,b = int(input()), int(input())\n",
    "\n",
    "print(*[i for i in range(a, b+1) if str(i) == str(i)[::-1]])"
   ]
  },
  {
   "cell_type": "code",
   "execution_count": 84,
   "metadata": {},
   "outputs": [
    {
     "name": "stdout",
     "output_type": "stream",
     "text": [
      "YES\n"
     ]
    }
   ],
   "source": [
    "    # Problem 11\n",
    "# Write a program that determines if a given string is a valid IP address.\n",
    "\n",
    "ip = input().split('.')\n",
    "print('YES' if len(ip) == 4 and all([i.isdigit() and 0 <= int(i) <= 255 for i in ip]) else 'NO')\n"
   ]
  },
  {
   "cell_type": "markdown",
   "metadata": {},
   "source": [
    "    Programming assignments 6 - lists, tuples"
   ]
  },
  {
   "cell_type": "code",
   "execution_count": 85,
   "metadata": {},
   "outputs": [
    {
     "name": "stdout",
     "output_type": "stream",
     "text": [
      "A C E G I K\n"
     ]
    }
   ],
   "source": [
    "    # Problem 1\n",
    "# Write a program which prints all elements of the list with even indices, i.e. which are L[0], L[2], L[4]\n",
    "# A list of random elements is entered. All elements are passed to the program as a single string of elements separated by spaces.\n",
    "\n",
    "print(*[i for i in input().split()[::2]])\n"
   ]
  },
  {
   "cell_type": "code",
   "execution_count": null,
   "metadata": {},
   "outputs": [],
   "source": [
    "    # Problem 2\n",
    "# A list of integers is entered. Print the value of the largest element in the list, and then the index of that element in the list. \n",
    "# If there are several largest elements, print the index of the first of them.\n",
    "\n",
    "ls = [int(i) for i in input().split()]\n",
    "\n",
    "print(max(ls), ls.index(max(ls)))"
   ]
  },
  {
   "cell_type": "code",
   "execution_count": null,
   "metadata": {},
   "outputs": [],
   "source": [
    "    # Problem 3\n",
    "# A list of numbers and the index k of an element in the list are given. Remove the element with index k from the list by moving to the left all elements which are right from the element with index k.\n",
    "# The program gets a list as an input, and then the number k. The program rearranges all the elements, and then removes the last element of the list using the pop() method. \n",
    "# The program should change the order of elements right in the list, not do it while printing elements. Note that you are not supposed to use an additional list.\n",
    "\n",
    "ls = [int(i) for i in input().split()]\n",
    "k = int(input())\n",
    "\n",
    "ls = ls[:k] + ls[k+1:]\n",
    "\n",
    "print(*ls)"
   ]
  },
  {
   "cell_type": "code",
   "execution_count": 24,
   "metadata": {},
   "outputs": [
    {
     "name": "stdout",
     "output_type": "stream",
     "text": [
      "5 5 5 5 3 \n",
      "['5', '5', '5', '5', 3, '']\n",
      "4\n",
      "3\n"
     ]
    }
   ],
   "source": [
    "    # Problem 4\n",
    "# A list of integers, a number k, and a value C are given. \n",
    "# Write a program which inserts an element equal to C into the list at the position with index k, shifting all elements with index more than k to the right. \n",
    "# The program must insert this new value in the entered list, not doing this while printing it, and without the use of an additional list.\n",
    "\n",
    "ls = [i for i in input().split()]\n",
    "\n",
    "k, c = [int(i) for i in input().split()]\n",
    "\n",
    "ls = ls[:k] + [c] + ls[k:]\n",
    "\n",
    "print(*ls)"
   ]
  },
  {
   "cell_type": "code",
   "execution_count": null,
   "metadata": {},
   "outputs": [],
   "source": [
    "    # Problem 5\n",
    "# A list sorted in non-decreasing order of elements is given. Write a program which determines how many unique elements there are.\n",
    "\n",
    "print(len(set([i for i in input().split()])))"
   ]
  },
  {
   "cell_type": "code",
   "execution_count": null,
   "metadata": {},
   "outputs": [],
   "source": [
    "    # Problem 6\n",
    "# A list is given. Write a program which prints those elements of the list which appear in the list only once. These elements should be printed in the order in which they appear in the list.\n",
    "\n",
    "ls = [i for i in input().split()]\n",
    "\n",
    "print(*[i for i in ls if ls.count(i) == 1])\n"
   ]
  },
  {
   "cell_type": "code",
   "execution_count": null,
   "metadata": {},
   "outputs": [],
   "source": [
    "    # Problem 7\n",
    "# Ivan decided to enroll in a swimming course. Before the start of the lesson, swimmers line up in height from highest to lowest. Ivan needs to determine his place in the line. Help him do it! \n",
    "# If there are people in the line with the same height as Ivan's, then he must stand after them.\n",
    "\n",
    "ls, ivan = input().rstrip().split(), int(input())\n",
    "\n",
    "ls_with_ivan = [int(i) for i in ls] + [ivan]\n",
    "\n",
    "print(sorted(ls_with_ivan, reverse=True).index(ivan) + 1 + ls_with_ivan.count(ivan) - 1) "
   ]
  },
  {
   "cell_type": "code",
   "execution_count": 24,
   "metadata": {},
   "outputs": [
    {
     "ename": "IndexError",
     "evalue": "list index out of range",
     "output_type": "error",
     "traceback": [
      "\u001b[0;31m---------------------------------------------------------------------------\u001b[0m",
      "\u001b[0;31mIndexError\u001b[0m                                Traceback (most recent call last)",
      "Cell \u001b[0;32mIn [24], line 6\u001b[0m\n\u001b[1;32m      1\u001b[0m \u001b[39m# Problem 8\u001b[39;00m\n\u001b[1;32m      2\u001b[0m \u001b[39m# There is an interesting fact in chess that 8 queens can be placed on an 8 × 8 board so that they do not beat each other. \u001b[39;00m\n\u001b[1;32m      3\u001b[0m \u001b[39m# Write a program which gets the arrangement of 8 queens on the board and determines if there is a pair of them beating each other.\u001b[39;00m\n\u001b[1;32m      4\u001b[0m ls \u001b[39m=\u001b[39m [[\u001b[39mint\u001b[39m(i) \u001b[39mfor\u001b[39;00m i \u001b[39min\u001b[39;00m \u001b[39minput\u001b[39m()\u001b[39m.\u001b[39msplit()] \u001b[39mfor\u001b[39;00m i \u001b[39min\u001b[39;00m \u001b[39mrange\u001b[39m(\u001b[39m8\u001b[39m)]\n\u001b[0;32m----> 6\u001b[0m \u001b[39mprint\u001b[39m(\u001b[39m'\u001b[39m\u001b[39mYES\u001b[39m\u001b[39m'\u001b[39m \u001b[39mif\u001b[39;00m \u001b[39mlen\u001b[39m(\u001b[39mset\u001b[39m([i[\u001b[39m0\u001b[39m] \u001b[39mfor\u001b[39;00m i \u001b[39min\u001b[39;00m ls])) \u001b[39m!=\u001b[39m \u001b[39m8\u001b[39m \\\n\u001b[1;32m      7\u001b[0m         \u001b[39mor\u001b[39;00m \u001b[39mlen\u001b[39m(\u001b[39mset\u001b[39m([i[\u001b[39m1\u001b[39m] \u001b[39mfor\u001b[39;00m i \u001b[39min\u001b[39;00m ls])) \u001b[39m!=\u001b[39m \u001b[39m8\u001b[39m \\\n\u001b[1;32m      8\u001b[0m         \u001b[39mor\u001b[39;00m \u001b[39mlen\u001b[39m(\u001b[39mset\u001b[39m([i[\u001b[39m0\u001b[39m] \u001b[39m+\u001b[39m i[\u001b[39m1\u001b[39m] \u001b[39mfor\u001b[39;00m i \u001b[39min\u001b[39;00m ls])) \u001b[39m!=\u001b[39m \u001b[39m8\u001b[39m \n\u001b[1;32m      9\u001b[0m         \u001b[39melse\u001b[39;00m \u001b[39m'\u001b[39m\u001b[39mNO\u001b[39m\u001b[39m'\u001b[39m)\n",
      "Cell \u001b[0;32mIn [24], line 6\u001b[0m, in \u001b[0;36m<listcomp>\u001b[0;34m(.0)\u001b[0m\n\u001b[1;32m      1\u001b[0m \u001b[39m# Problem 8\u001b[39;00m\n\u001b[1;32m      2\u001b[0m \u001b[39m# There is an interesting fact in chess that 8 queens can be placed on an 8 × 8 board so that they do not beat each other. \u001b[39;00m\n\u001b[1;32m      3\u001b[0m \u001b[39m# Write a program which gets the arrangement of 8 queens on the board and determines if there is a pair of them beating each other.\u001b[39;00m\n\u001b[1;32m      4\u001b[0m ls \u001b[39m=\u001b[39m [[\u001b[39mint\u001b[39m(i) \u001b[39mfor\u001b[39;00m i \u001b[39min\u001b[39;00m \u001b[39minput\u001b[39m()\u001b[39m.\u001b[39msplit()] \u001b[39mfor\u001b[39;00m i \u001b[39min\u001b[39;00m \u001b[39mrange\u001b[39m(\u001b[39m8\u001b[39m)]\n\u001b[0;32m----> 6\u001b[0m \u001b[39mprint\u001b[39m(\u001b[39m'\u001b[39m\u001b[39mYES\u001b[39m\u001b[39m'\u001b[39m \u001b[39mif\u001b[39;00m \u001b[39mlen\u001b[39m(\u001b[39mset\u001b[39m([i[\u001b[39m0\u001b[39;49m] \u001b[39mfor\u001b[39;00m i \u001b[39min\u001b[39;00m ls])) \u001b[39m!=\u001b[39m \u001b[39m8\u001b[39m \\\n\u001b[1;32m      7\u001b[0m         \u001b[39mor\u001b[39;00m \u001b[39mlen\u001b[39m(\u001b[39mset\u001b[39m([i[\u001b[39m1\u001b[39m] \u001b[39mfor\u001b[39;00m i \u001b[39min\u001b[39;00m ls])) \u001b[39m!=\u001b[39m \u001b[39m8\u001b[39m \\\n\u001b[1;32m      8\u001b[0m         \u001b[39mor\u001b[39;00m \u001b[39mlen\u001b[39m(\u001b[39mset\u001b[39m([i[\u001b[39m0\u001b[39m] \u001b[39m+\u001b[39m i[\u001b[39m1\u001b[39m] \u001b[39mfor\u001b[39;00m i \u001b[39min\u001b[39;00m ls])) \u001b[39m!=\u001b[39m \u001b[39m8\u001b[39m \n\u001b[1;32m      9\u001b[0m         \u001b[39melse\u001b[39;00m \u001b[39m'\u001b[39m\u001b[39mNO\u001b[39m\u001b[39m'\u001b[39m)\n",
      "\u001b[0;31mIndexError\u001b[0m: list index out of range"
     ]
    }
   ],
   "source": [
    "    # Problem 8\n",
    "# There is an interesting fact in chess that 8 queens can be placed on an 8 × 8 board so that they do not beat each other. \n",
    "# Write a program which gets the arrangement of 8 queens on the board and determines if there is a pair of them beating each other.\n",
    "ls = [[int(i) for i in input().split()] for i in range(8)]\n",
    "\n",
    "print('YES' if len(set([i[0] for i in ls])) != 8 \\\n",
    "            or len(set([i[1] for i in ls])) != 8 \\\n",
    "            or len(set([i[0] - i[1] for i in ls])) != 8 \n",
    "            or len(set([i[0] + i[1] for i in ls])) != 8 \n",
    "            else 'NO')"
   ]
  },
  {
   "cell_type": "code",
   "execution_count": null,
   "metadata": {},
   "outputs": [],
   "source": [
    "    # Problem 9\n",
    "# Create a list of numbers from 10 to 20 using list comprehensions.\n",
    "\n",
    "print([i for i in range(10, 21)])\n"
   ]
  },
  {
   "cell_type": "code",
   "execution_count": null,
   "metadata": {},
   "outputs": [],
   "source": [
    "# Problem 10\n",
    "\n",
    "# Create a list of numbers divisible by 3 in the range from 10 to 50 using list comprehensions.\n",
    "\n",
    "print([i for i in range(10, 51) if not i % 3])"
   ]
  },
  {
   "cell_type": "markdown",
   "metadata": {},
   "source": [
    "    Programming assignments 7 - strings"
   ]
  },
  {
   "cell_type": "code",
   "execution_count": null,
   "metadata": {},
   "outputs": [],
   "source": [
    "    # Problem 1\n",
    "# Write a test result handler which, first, gets a number of correct answers and a number of questions in a test, and then prints a message in the format \n",
    "# like 'You've done:  'percent'% of all exercises correctly, well done!'. Limit floats to one decimal place\n",
    "\n",
    "n, m = int(input()), int(input())\n",
    "\n",
    "print(f\"You've done: {round(n/m*100, 1)}% of all exercises correctly, well done!\")"
   ]
  },
  {
   "cell_type": "code",
   "execution_count": 48,
   "metadata": {},
   "outputs": [
    {
     "name": "stdout",
     "output_type": "stream",
     "text": [
      "I\n",
      "'m s\n",
      "tseb ym ta em evresed t'nod lleh sa erus uoy neht ,tsrow ym ta em eldnah t'nac uoy fi tuB .eldnah ot drah semit ta dna lortnoc fo tuo ma I ,sekatsim ekam I .erucesni elttil a dna tneitapmi ,hsifles m'I\n",
      "mei,mtna lt su. kmte ao  noa  m rthd.uiy n neetyottnosese n svmambt\n"
     ]
    }
   ],
   "source": [
    "    # Problem 2\n",
    "# Write a program which prints the first element of a string in the first line; from 2nd to 5th elements of the given string in the second line; \n",
    "# all the elements in the reverse order in the third line; every third element of the given string in the fourth line.\n",
    "s = input()\n",
    "\n",
    "print(s[0], s[1:5], s[-1::-1], s[2::3], sep = '\\n')\n"
   ]
  },
  {
   "cell_type": "code",
   "execution_count": 52,
   "metadata": {},
   "outputs": [
    {
     "name": "stdout",
     "output_type": "stream",
     "text": [
      "ok\n"
     ]
    }
   ],
   "source": [
    "    # Problem 3\n",
    "# Imagine you develop a program for a website which checks whether the number of characters of an entered string exceeds the limit. \n",
    "# If the length of the entered string is more than this limit the program prints 'error'; it prints 'ok' otherwise.\n",
    "\n",
    "n, s = int(input()), input()\n",
    "\n",
    "print(*['ok' if len(s) <= n else 'error'])"
   ]
  },
  {
   "cell_type": "code",
   "execution_count": null,
   "metadata": {},
   "outputs": [],
   "source": [
    "    # Problem 4\n",
    "# A string which consists of words separated by spaces is given. Determine how many words the string contains.\n",
    "print(*[len(input().split(' '))])"
   ]
  },
  {
   "cell_type": "code",
   "execution_count": 88,
   "metadata": {},
   "outputs": [
    {
     "name": "stdout",
     "output_type": "stream",
     "text": [
      "kmid\n"
     ]
    }
   ],
   "source": [
    "    # Problem 5\n",
    "# A string is given. Write a program which cuts it into two equal parts if the length of the string is even. \n",
    "# If the length of the string is odd, then the length of the first part must be one character longer. Then, the program should rearrange these two parts in places, store the result in a new variable, and print it on the screen.\n",
    "\n",
    "s = input()\n",
    "\n",
    "print(*[s[len(s)//2 + len(s)%2:] + s[:len(s)//2 + len(s)%2]])"
   ]
  },
  {
   "cell_type": "code",
   "execution_count": 99,
   "metadata": {},
   "outputs": [
    {
     "name": "stdout",
     "output_type": "stream",
     "text": [
      "love i\n"
     ]
    }
   ],
   "source": [
    "    # Problem 6\n",
    "# A string of exactly two words separated by a space is given. Write a program which rearranges these words and prints the result on the screen.\n",
    "\n",
    "s = input().split(' ')\n",
    "\n",
    "print(*[s[1], s[0]])"
   ]
  },
  {
   "cell_type": "code",
   "execution_count": 101,
   "metadata": {},
   "outputs": [
    {
     "name": "stdout",
     "output_type": "stream",
     "text": [
      "oneoneoneoneone\n"
     ]
    }
   ],
   "source": [
    "    # Problem 7\n",
    "# A string is given. Replace all 1's in this string with 'one'.\n",
    "\n",
    "print(*[input().replace('1', 'one')])"
   ]
  },
  {
   "cell_type": "code",
   "execution_count": 107,
   "metadata": {},
   "outputs": [
    {
     "name": "stdout",
     "output_type": "stream",
     "text": [
      "YES\n"
     ]
    }
   ],
   "source": [
    "    # Problem 8\n",
    "# A word which consists only of uppercase and lowercase Latin letters is given. \n",
    "# Check if it is true that this word is read the same way both from right to left and from left to right, i.e. if it is a palindrome.\n",
    "# Uppercase and lowercase letters are considered indistinguishable. Print the word YES if the word is a palindrome and the word NO if it is not.\n",
    "s = input().lower()\n",
    "\n",
    "print('YES' if s[::] == s[::-1] else 'NO')"
   ]
  },
  {
   "cell_type": "markdown",
   "metadata": {},
   "source": [
    "    Programming assginments 8 - functions"
   ]
  },
  {
   "cell_type": "code",
   "execution_count": 115,
   "metadata": {},
   "outputs": [
    {
     "data": {
      "text/plain": [
       "2.7777777777777777"
      ]
     },
     "execution_count": 115,
     "metadata": {},
     "output_type": "execute_result"
    }
   ],
   "source": [
    "    # Problem 1\n",
    "# Write a program a.k.a. calculator which performs basic mathematical operations (+, -, * or /). Your solution must be written as a function.\n",
    "\n",
    "def calculator(a, b, op):\n",
    "     if op == '+':\n",
    "        return a + b\n",
    "     elif op == '-':\n",
    "        return a - b\n",
    "     elif op == '*':\n",
    "        return a * b\n",
    "     elif op == '/':\n",
    "        return a / b\n",
    "     else:\n",
    "         pass\n",
    "\n",
    "print(calculator(float(input()), float(input()), input()))"
   ]
  },
  {
   "cell_type": "code",
   "execution_count": 121,
   "metadata": {},
   "outputs": [
    {
     "name": "stdout",
     "output_type": "stream",
     "text": [
      "YES\n"
     ]
    }
   ],
   "source": [
    "    # Problem 2\n",
    "# Write a program that determines whether an entered number is prime. Your solution must be written as a function.\n",
    "\n",
    "def is_prime(n):\n",
    "     return 'YES' \\\n",
    "     if len([i for i in range(1, n+1) if not n % i]) == 2 \\\n",
    "     else 'NO'\n",
    "\n",
    "print(is_prime(int(input())))"
   ]
  },
  {
   "cell_type": "code",
   "execution_count": 27,
   "metadata": {},
   "outputs": [
    {
     "ename": "ValueError",
     "evalue": "invalid literal for int() with base 10: ''",
     "output_type": "error",
     "traceback": [
      "\u001b[0;31m---------------------------------------------------------------------------\u001b[0m",
      "\u001b[0;31mValueError\u001b[0m                                Traceback (most recent call last)",
      "Cell \u001b[0;32mIn [27], line 7\u001b[0m\n\u001b[1;32m      4\u001b[0m \u001b[39mdef\u001b[39;00m \u001b[39mmin4\u001b[39m(a,b,c,d):\n\u001b[1;32m      5\u001b[0m     \u001b[39mreturn\u001b[39;00m \u001b[39mmin\u001b[39m(a,b,c,d)\n\u001b[0;32m----> 7\u001b[0m \u001b[39mprint\u001b[39m(min4(\u001b[39mint\u001b[39m(\u001b[39minput\u001b[39m()), \u001b[39mint\u001b[39m(\u001b[39minput\u001b[39m()), \u001b[39mint\u001b[39m(\u001b[39minput\u001b[39m()), \u001b[39mint\u001b[39m(\u001b[39minput\u001b[39m())))\n",
      "\u001b[0;31mValueError\u001b[0m: invalid literal for int() with base 10: ''"
     ]
    }
   ],
   "source": [
    "# Problem 3\n",
    "# Write a min4 (a, b, c, d) function that calculates the minimum of four numbers. The function should not contain an if statement, but uses the standard min function instead.\n",
    "\n",
    "def min4(a,b,c,d):\n",
    "    return min(a,b,c,d)\n",
    "\n",
    "print(min4(int(input()), int(input()), int(input()), int(input())))"
   ]
  },
  {
   "cell_type": "code",
   "execution_count": 130,
   "metadata": {},
   "outputs": [
    {
     "name": "stdout",
     "output_type": "stream",
     "text": [
      "287496\n"
     ]
    }
   ],
   "source": [
    "    # Problem 4\n",
    "# Write a function power(a, n) which returns the result of a^n. Do not use the standard exponentiation function or operation to solve this problem. \n",
    "\n",
    "def power(a, n):\n",
    "     pow = 1\n",
    "     for _ in range(n):\n",
    "        pow = pow * a\n",
    "     return pow\n",
    "print(power(int(input()), int(input())))"
   ]
  },
  {
   "cell_type": "code",
   "execution_count": 229,
   "metadata": {},
   "outputs": [
    {
     "name": "stdout",
     "output_type": "stream",
     "text": [
      "11 44 77 10\n",
      "22 55 88 11\n",
      "33 66 99 12\n"
     ]
    }
   ],
   "source": [
    "    # Problem 5\n",
    "# You are given an n × m two-dimensional array (n, m <1000). An array symmetric to it with respect to the main diagonal is called transposed to the given one. It has dimensions m × n, i.e. the rows of the original array become the columns of the transposed one, and the columns of the original array become the rows of the transposed one. For a given array, make a transposed array and print it on the screen.\n",
    "def transpose_array(n, m):\n",
    "     ls = [[int(i) for i in input().split(' ')] for _ in range(n)]\n",
    "     s = [[ls[j][i] for j in range(n)] for i in range(m)]\n",
    "     for _ in s:\n",
    "        print(*_)\n",
    "     \n",
    "        \n",
    "n, m = [int(i) for i in input().split(' ')]\n",
    "\n",
    "transpose_array(n, m)"
   ]
  },
  {
   "cell_type": "code",
   "execution_count": 233,
   "metadata": {},
   "outputs": [
    {
     "name": "stdout",
     "output_type": "stream",
     "text": [
      "33 66 99 12\n",
      "22 55 88 11\n",
      "11 44 77 10\n"
     ]
    }
   ],
   "source": [
    "    # Problem 6\n",
    "# A rectangular array of size n x m is given. Write a function rotate(array) which rotates it 90 degrees clockwise.\n",
    "\n",
    "def rotate_array(n, m):\n",
    "     ls = [[int(i) for i in input().split(' ')] for _ in range(n)]\n",
    "     s = [[ls[j][i] for j in range(n)] for i in range(m)]\n",
    "     s = s[::-1]\n",
    "     for _ in s:\n",
    "        print(*_)\n",
    "     \n",
    "        \n",
    "n, m = [int(i) for i in input().split(' ')]\n",
    "\n",
    "rotate_array(n, m)"
   ]
  },
  {
   "cell_type": "markdown",
   "metadata": {},
   "source": [
    "    Programming assginments 9 - recursive functions"
   ]
  },
  {
   "cell_type": "code",
   "execution_count": 234,
   "metadata": {},
   "outputs": [
    {
     "name": "stdout",
     "output_type": "stream",
     "text": [
      "120\n"
     ]
    }
   ],
   "source": [
    "    # Problem 1\n",
    "# Write a program that calculates a factorial of a given number and prints it on the screen. Keep in mind that you are supposed to use recursion to solve this task.\n",
    "\n",
    "def factorial(n: int) -> int:\n",
    "     \"Returns the factorial of a given number\"\n",
    "     if n == 0:\n",
    "         return 1\n",
    "     else:\n",
    "         return n * factorial(n-1)\n",
    "\n",
    "print(factorial(int(input())))"
   ]
  },
  {
   "cell_type": "code",
   "execution_count": 240,
   "metadata": {},
   "outputs": [
    {
     "name": "stdout",
     "output_type": "stream",
     "text": [
      "9\n"
     ]
    }
   ],
   "source": [
    "    # Problem 2\n",
    "# Write a program that calculates a sum of digits of any natural number and prints it on the screen. You are supposed to use recursion to solve this task.\n",
    "\n",
    "def sum_nat(n: int) -> int:\n",
    "     \"Recursively calculates the sum of digits of a natural number\"\n",
    "     if n == 0:\n",
    "        return 0\n",
    "     else:\n",
    "        return n % 10 + sum_nat(n // 10)\n",
    "\n",
    "print(sum_nat(int(input())))"
   ]
  },
  {
   "cell_type": "code",
   "execution_count": 15,
   "metadata": {},
   "outputs": [
    {
     "name": "stdout",
     "output_type": "stream",
     "text": [
      "9\n"
     ]
    }
   ],
   "source": [
    "    # Problem 3\n",
    "# Write a recursive function sum(a, b) that returns the sum of two non-negative integers. \n",
    "# Of all the arithmetic operations, only +1 and -1 are allowed. You also can't use loops.\n",
    "\n",
    "def sum_rec(a: int, b: int) -> int:\n",
    "     \"Recursively returns a sum of two non-negative integers\"\n",
    "     if b == 0:\n",
    "        return a\n",
    "     else:\n",
    "        return sum_rec(a+1, b-1)\n",
    "\n",
    "print(sum_rec(int(input()), int(input())))"
   ]
  },
  {
   "cell_type": "code",
   "execution_count": 10,
   "metadata": {},
   "outputs": [
    {
     "name": "stdout",
     "output_type": "stream",
     "text": [
      "9969216677189303386214405760200\n"
     ]
    }
   ],
   "source": [
    "    # Problem 4\n",
    "# Write a function phib(n) that returns the n-th Fibonacci number for a given non-negative integer n. Do not use loops in this task, use recursion instead.\n",
    "\n",
    "def fib(n : int, cache: dict = {0: 0, 1: 1}) -> int:\n",
    "     \"Recursively returns the n-th Fibonacci number for a given non-negative integer n\"\n",
    "     if n not in cache:\n",
    "         cache[n] = fib(n-1) + fib(n-2)\n",
    "     return cache[n]\n",
    "\n",
    "print(fib(150))"
   ]
  }
 ],
 "metadata": {
  "kernelspec": {
   "display_name": "Python 3.9.12 ('base')",
   "language": "python",
   "name": "python3"
  },
  "language_info": {
   "codemirror_mode": {
    "name": "ipython",
    "version": 3
   },
   "file_extension": ".py",
   "mimetype": "text/x-python",
   "name": "python",
   "nbconvert_exporter": "python",
   "pygments_lexer": "ipython3",
   "version": "3.9.12"
  },
  "orig_nbformat": 4,
  "vscode": {
   "interpreter": {
    "hash": "cd78fef2128015050713e82ca51c6520b11aee7c9ee8df750520bbbc7384cbaa"
   }
  }
 },
 "nbformat": 4,
 "nbformat_minor": 2
}
