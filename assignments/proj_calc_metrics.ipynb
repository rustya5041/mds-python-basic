{
 "cells": [
  {
   "cell_type": "markdown",
   "metadata": {},
   "source": [
    "### SGA2\n",
    "`SGA2 - metrics, by Magomedov Rustam, MDS, Python Basic course`\n",
    "\n",
    "Before proceding to the functions, I'd like to note that all below functions are designed to be human-readable instead of machine-readable. This idea stems from the assumption that the user will pass arguments and will want to interpret the result, which is achieveable only if the accompanying message is in place.   \n",
    "Example:\n",
    "- `Average page time: 233 seconds` - this message can be intepreted\n",
    "- `233` - this message is hard to interpret without context, which is much worse in terms of UX\n",
    "\n",
    "Of course, a string output cannot be passed to other functions, but any of my functions can be modifed to be machine-readable. In conclusion, I format my output as messages - it is done intentionally.  "
   ]
  },
  {
   "cell_type": "markdown",
   "metadata": {},
   "source": [
    "### **_1. Click-through-rate (CTR)_**\n",
    "\n",
    "**Input.**  \n",
    "- I consider string arguments as an input and then transform it to integers. Int type is the only viable case, because clicks and displays cannot be of other types. \n",
    "- I take optional argument taking_int. The default value is false, and if set to True, it will transform the output to int. It may be useful when you don't need a precise value but aim for a more user-friendly format.\n",
    "\n",
    "**I consider several cases of possible incorrect inputs.**  \n",
    "- The script will raise the ValueError when it cannot convert the input to integer.\n",
    "- The script will raise the ValueError when either of the inputs is negative\n",
    "- The script will raise the ValueErorr when number of clicks is higher than the number of displays since the upper boundary of CTR metric is 100%\n",
    "- The script will raise the ZeroDivisionError if the total number of displays is zero. \n",
    "\n",
    "**Output.**  \n",
    "The output `prints` the inputed values for validation purposes. The output `returns` the message showing the CTR in percents. The return argument can be modifed to return the simple float, to further pass it to other parts of code if necessary. The return argument can be modifed to return only int/float value (without the message), to further pass it to other parts of code if necessary. Here the message is also returned so that the user would understand the meaning behind the output."
   ]
  },
  {
   "cell_type": "code",
   "execution_count": 8,
   "metadata": {},
   "outputs": [
    {
     "name": "stdout",
     "output_type": "stream",
     "text": [
      "Total Measured Clicks: 100 \n",
      "Total Measured Ad displays: 120 \n",
      "\n"
     ]
    },
    {
     "data": {
      "text/plain": [
       "'Click Through Rate: 83.33%'"
      ]
     },
     "execution_count": 8,
     "metadata": {},
     "output_type": "execute_result"
    }
   ],
   "source": [
    "# Click-through-rate metric\n",
    "\n",
    "    # defining function\n",
    "def click_through_rate(clicks : int, displays : int, taking_int=False) -> str:\n",
    "    \"\"\"\n",
    "    Calculate the click through rate in percent.\n",
    "\n",
    "    :param clicks: int, number of clicks\n",
    "    :param displays: int, number of displays\n",
    "    :param taking_int: bool, if True, return int, else float\n",
    "       default: False, which calculates the precise click through rate rounded to 2 decimals\n",
    "\n",
    "    :return: ctr: str, a message stating the click through rate in percent, rounded to 2 decimals\n",
    "\n",
    "    :raises: Value Error, if clicks or displays cannot be converted to int, or clicks or integers are negative, or number of displays is greater than number of clicks\n",
    "    :raises: ZeroDivisionError, when displays (divisor in the formula) is 0\n",
    "    \"\"\"\n",
    "    try:\n",
    "        displays, clicks = int(displays), int(clicks)\n",
    "    except ValueError:\n",
    "        raise ValueError(f\"Input is not an integer. displays:{displays}, clicks:{clicks}\")\n",
    "\n",
    "    if displays < 0 or clicks < 0:\n",
    "        raise ValueError(f\"Negative number in the input, {clicks if (clicks < 0) else displays}\")\n",
    "    elif displays == 0:\n",
    "        raise ZeroDivisionError(f\"displays:{displays}, division by zero is not allowed.\") \n",
    "    elif clicks > displays:\n",
    "        raise ValueError(f\"Clicks: {clicks} cannot be greater than displays: {displays}\")\n",
    "                \n",
    "    ctr = clicks / displays * 100\n",
    "    if taking_int:\n",
    "        ctr = int(ctr)\n",
    "    print(f\"Total Measured Clicks: {clicks} \\nTotal Measured Ad displays: {displays} \\n\")\n",
    "    return(f\"Click Through Rate: {(ctr):.2f}%\")\n",
    "\n",
    "    # calling function\n",
    "click_through_rate(input(), input())"
   ]
  },
  {
   "cell_type": "markdown",
   "metadata": {},
   "source": [
    "### **_2. Return On Investment (ROI)_**\n",
    "\n",
    "**Input.**  \n",
    "- String arguments are passed as inputs, then strings are transformed to floats. Based on the fact that ROI is currency-related, float types are more likely to prevail. Even if int is placed as an input, it practically won't affect the function.\n",
    "- I take optional argument taking_int. The default value is false, and if set to True, it will transform the real ROI to int. Likewise, it may be beneficial for a more user-friendly format.\n",
    "\n",
    "**I consider several cases of possible incorrect inputs.**  \n",
    "- The script will raise the ValueError when it cannot convert the input to float.\n",
    "- The script will raise the ValueError when either of the inputs is negative.\n",
    "- The script will raise the ZeroDivisionError if the amount spent is zero. \n",
    "\n",
    "**Output.**  \n",
    "The output `prints` the inputed values for validation purposes. The output `returns` the message showing the ROI in currency entered rounded to 2 decimal places. The return argument can be modifed to return the int/float value (without the message), to further pass it to other parts of code if necessary. "
   ]
  },
  {
   "cell_type": "code",
   "execution_count": 9,
   "metadata": {},
   "outputs": [
    {
     "name": "stdout",
     "output_type": "stream",
     "text": [
      "Total amount spent: 100.0$ \n",
      "Total amount gained: 200.0$ \n",
      "\n"
     ]
    },
    {
     "data": {
      "text/plain": [
       "'Return on Investment = 100.00%'"
      ]
     },
     "execution_count": 9,
     "metadata": {},
     "output_type": "execute_result"
    }
   ],
   "source": [
    "# ROI metric\n",
    "\n",
    "    # defining function\n",
    "def ROI(amount_spent : float, amount_gained : float, taking_int=False) -> str:\n",
    "    \"\"\"\"\n",
    "    Calculate the return on investment in percent.\n",
    "\n",
    "    :param amount_spent: int | float, amount of money invested\n",
    "    :param amount_gained: int \" float, amount of money gained from the investment\n",
    "    :param taking_int: bool, if True, return int, else float\n",
    "      default: False, which calculates the ROI rounded to 2 decimals\n",
    "    \n",
    "    :return: roi: str, a message stating the return on investment in percent, rounded to 2 decimals\n",
    "\n",
    "    :raises: ZeroDivisionError, when amount spent (divisor in the formula) is 0\n",
    "    :raises: ValueError, when amount spent or gained cannot be converted to float\n",
    "    \"\"\"\n",
    "    try:\n",
    "        amount_spent, amount_gained = float(amount_spent), float(amount_gained)\n",
    "    except ValueError:\n",
    "        raise ValueError(f\"Input is not an integer. Amount spent:{amount_spent}, amount gained:{amount_gained}\")\n",
    "    if amount_spent == 0:\n",
    "        raise ZeroDivisionError(f\"Amount spent: {amount_spent}$, division by zero is not allowed.\") \n",
    "    elif amount_spent < 0 or amount_gained < 0:\n",
    "        raise ValueError(f\"Negative number in the input, {amount_spent if (amount_spent < 0) else amount_gained}\")\n",
    "    roi = (amount_gained - amount_spent) / amount_spent * 100\n",
    "    if taking_int:\n",
    "        roi = int(roi)\n",
    "    print(f\"Total amount spent: {amount_spent}$ \\nTotal amount gained: {amount_gained}$ \\n\")\n",
    "    return(f\"Return on Investment = {roi:.2f}%\")\n",
    "\n",
    "    # calling function\n",
    "ROI(input(), input())"
   ]
  },
  {
   "cell_type": "markdown",
   "metadata": {},
   "source": [
    "### **_3. Average Page Time_**\n",
    "\n",
    "This is the only function that takes list as input, so I'll describe it more thoroughly. \n",
    "1. We're most likely to have an array of inputs, representiting time in seconds/minutes. I hardly believe that some pages (apart from social networks) have multiple hours of page time per user. Even if they do, minutes are easily convertible to hours, and seconds are easily convertible to minutes, while converting hours to minutes or seconds seems rather an extreme case. You may end up having 0.003 hours as your average time - hardly interpretable. So, seconds are believed to be the best option. However, having minutes is good as well, that's why I introduct the optional argument *is_minutes*\n",
    "2. Secondly, when you think about averages, it is highly likely that you will want to compare it with some other statistics. Int/float types are comparable objects, while int & datetime are not comparable. That's why datetime becomes rather redundant as a coversion format\n",
    "3. The last thing i'd consider is output format. I assume that we'll not pass it further to other functions, so it must be human-readable.\n",
    "\n",
    "**Input.**  \n",
    "- Based on the fact that we only need average page time it is easier to consider array-type inputs. Within the list, elements must be either int of float type (either full seconds or sections with fractions)\n",
    "- To calculate time per user, I take the following approach: take only such elements in the list that satisfy the condition of 5 seconds, and then simply take the length of that list. This will leave us with the number of users who spent >5 seconds on the page.\n",
    "\n",
    "\n",
    "**I consider several cases of possible incorrect inputs.**  \n",
    "- The script will raise the ValueError when it cannot convert items in the input to list. Likewise, it will raise the same error if there are no values higher than 5.0 seconds.\n",
    "- It is asserted that the length of the list with condition that users spend >5 seconds on the page is not empty, hence has a length of at least 1. If this assertion fails, the funtion will raise the AssertionError and print the respective warning.\n",
    "\n",
    "**Output.**  \n",
    "The output `prints` the number of users who spent more than 5 seconds on the page for validation purposes. The output `returns` the message showing theaverage page time. The return argument can be modifed to return the int/float value (without the message), to further pass it to other parts of code if necessary. "
   ]
  },
  {
   "cell_type": "code",
   "execution_count": 10,
   "metadata": {},
   "outputs": [
    {
     "name": "stdout",
     "output_type": "stream",
     "text": [
      "Number of users: 3 \n",
      "\n"
     ]
    },
    {
     "data": {
      "text/plain": [
       "'Average page time per user: 9.47 minutes'"
      ]
     },
     "execution_count": 10,
     "metadata": {},
     "output_type": "execute_result"
    }
   ],
   "source": [
    "# Average Page Time is calculated as “Average Page Time = [Σ(Time Spent on a Page by a User) / Number of Users]”, where “time spent on a page by a user” is time measured for each user who visits a webpage; “number of users” is the number of users who visit a webpage. \n",
    "\n",
    "    # defining function\n",
    "def average_page_time(time_spent : list, is_minutes=False) -> str:\n",
    "    \"\"\"\"\n",
    "    Calculate the average time spent on the page in seconds.\n",
    "\n",
    "    :param time_spent: list, list of time spent on the page by each user in seconds\n",
    "    :param is_minutes: bool, if True, return time in minutes\n",
    "        default: False, which calculates the average time spent on the page in seconds\n",
    "   \n",
    "    :return: average_page_time: str, a message stating the average time spent on the page in seconds/minutes, rounded to 2 decimals\n",
    "\n",
    "    :raises: ValueError, when time spent array cannot be converted to float or int\n",
    "\n",
    "    it is asserted that number of users who spent time on the page is equal to number of users who spent more than 5 seconds on the page\n",
    "    \"\"\"\n",
    "    try:\n",
    "        time_spent = [float(i) for i in time_spent if float(i) > 5]\n",
    "    except ValueError:\n",
    "        raise ValueError(f\"Input is not an array consisting of int or float. Time spent:{time_spent}\")\n",
    "\n",
    "    number_of_users = len(time_spent)\n",
    "    assert number_of_users > 0, \"Number of users who spent more than 5 seconds on the page is 0, division by zero is not allowed.\"\n",
    "    \n",
    "    print(f\"Number of users: {number_of_users} \\n\")\n",
    "\n",
    "    average_page_time = sum(time_spent) / number_of_users\n",
    "\n",
    "    if is_minutes:\n",
    "        average_page_time /= 60\n",
    "        return f\"Average page time per user: {average_page_time:.2f} minutes\"\n",
    "    else:\n",
    "        return f\"Average page time per user: {average_page_time:2f} seconds\"\n",
    "\n",
    "    # calling function\n",
    "average_page_time(input().split(), is_minutes=True)"
   ]
  },
  {
   "cell_type": "markdown",
   "metadata": {},
   "source": [
    "### **_4. Customer Lifetime Value (CLV)_**\n",
    "\n",
    "**Input.**  \n",
    "- String arguments are passed as inputs. _Revenue_ is transformed to float, _units_ and _customers_ are transformed to int. These inputs are essential elements of the CLV formula. The formula itself is embedded in the function and is split to logical parts.\n",
    "\n",
    "**I consider several cases of possible incorrect inputs.**  \n",
    "- The script will raise the ValueError when it cannot convert the input to appropriate format float | int.\n",
    "- The script will raise the AssertionError when either of the inputs is negative or when the number of units_sold is less than number of unique customers.\n",
    "\n",
    "**Output.**  \n",
    "The output `prints` the inputed values for validation purposes. The output `returns` the message showing the customer lifetime value in currency entered rounded to 2 decimal places. The return argument can be modifed to return the int/float value (without the message), to further pass it to other parts of code if necessary."
   ]
  },
  {
   "cell_type": "code",
   "execution_count": 11,
   "metadata": {},
   "outputs": [
    {
     "name": "stdout",
     "output_type": "stream",
     "text": [
      "Average Purchase Value: 3 \n",
      "Average Purchase Frequency: 95.2 \n",
      "Average Customer Lifespan: 0.0 \n",
      "\n"
     ]
    },
    {
     "data": {
      "text/plain": [
       "'Customer Lifetime Value: -0.96'"
      ]
     },
     "execution_count": 11,
     "metadata": {},
     "output_type": "execute_result"
    }
   ],
   "source": [
    "# Customer Lifetime Value (CLV) is calculated as “CLV = [(Average Purchase Value – Average Purchase Frequency) X Average Customer Lifespan]” and used to predict how much revenue a customer will drive over time.\n",
    "\n",
    "    # defining function\n",
    "def customer_lifetime_value(total_revenue : float, units_sold : int, unique_customers : int) -> str:\n",
    "    \"\"\"\"\n",
    "    Calculate the Customer Lifetime Value in currency entered rounded to 2 decimal places.\n",
    "\n",
    "    :param total_revenue: float, total revenue in currency entered\n",
    "    :param units_sold: int, total number of units sold\n",
    "    :param unique_customers: int, total number of unique customers\n",
    "    \n",
    "    :return: customer_lifetime_value: str, a message stating the customer lifetime value in currency entered rounded to 2 decimal places\n",
    "\n",
    "    :raises: ValueError, when total revenue, units sold or unique customers cannot be converted to float or int \n",
    "    :raises: AssertionError, when number of unique customers is less than 1 or number of units is less than number of unique customers\n",
    "    \"\"\"\n",
    "    try:\n",
    "        total_revenue, units_sold, unique_customers = float(total_revenue), int(units_sold), int(unique_customers)\n",
    "    except ValueError:\n",
    "        raise ValueError(f\"Input type is not correct. Total revenue:{total_revenue}, units sold:{units_sold}, unique customers:{unique_customers}\")\n",
    "    \n",
    "    assert unique_customers > 0, \"Number of unique customers is 0, division by zero is not allowed.\"\n",
    "    assert units_sold >= unique_customers > 0, \"Number of units sold cannot be less than the number of unique customers.\"\n",
    "\n",
    "    avg_purchase_value = total_revenue / units_sold\n",
    "    avg_purchase_freq = units_sold / unique_customers\n",
    "    avg_cust_lifespan = 1 / avg_purchase_freq # asserting that the customer lifespan can be approximated to the inverse value of the average purchase frequency\n",
    "\n",
    "    customer_lifetime_value = (avg_purchase_value - avg_purchase_freq) * avg_cust_lifespan\n",
    "\n",
    "    print(f\"Average Purchase Value: {int(avg_purchase_value)} \\nAverage Purchase Frequency: {avg_purchase_freq:.1f} \\nAverage Customer Lifespan: {avg_cust_lifespan:.1f} \\n\")\n",
    "    return(f\"Customer Lifetime Value: {customer_lifetime_value:.2f}\")\n",
    "\n",
    "    # calling function\n",
    "customer_lifetime_value(input(), input(), input())\n"
   ]
  },
  {
   "cell_type": "markdown",
   "metadata": {},
   "source": [
    "### **_5. Conversion Rate (CR)_**\n",
    "\n",
    "**Input.**  \n",
    "- String arguments are the expected inputed, and are tranformed to integers within the function. Int type is the only viable case, because number of clicks and conversions cannot be any other type. \n",
    "\n",
    "**I consider several cases of possible incorrect inputs.**  \n",
    "- The script will raise the ZeroDivisionError if the total number of clicks is zero. \n",
    "- The script will raise the ValueError when it cannot convert the input to integer.\n",
    "- The script will raise the ValueError when either of the inputs is negative\n",
    "- The script will raise the ValueErorr when number of clicks is lower than the number of conversions (as it is impossible)\n",
    "\n",
    "**Output.**  \n",
    "The output `prints` the inputed values for validation purposes. The output `returns` the message showing the conversion rate in percents rounded to 2 decimals. The return argument can be modifed to return the simple float, to further pass it to other parts of code if necessary. The return argument can be modifed to return only int/float value (without the message), to further pass it to other parts of code if necessary. Here the message is also returned so that the user would understand the meaning behind the output."
   ]
  },
  {
   "cell_type": "code",
   "execution_count": 12,
   "metadata": {},
   "outputs": [
    {
     "name": "stdout",
     "output_type": "stream",
     "text": [
      "Total Measured Clicks: 100 \n",
      "Total Attributed Conversions: 40 \n",
      "\n"
     ]
    },
    {
     "data": {
      "text/plain": [
       "'Conversion Rate: 40.00%'"
      ]
     },
     "execution_count": 12,
     "metadata": {},
     "output_type": "execute_result"
    }
   ],
   "source": [
    "# Conversion Rate (CR) which is calculated as “CR = [Total Attributed Conversion / Total Measured Clicks] X 100”, where “total attributed conversion” is the total amount of conversion recorded which have been caused clicks; “total clicks” – number of times an ad was clicked on.\n",
    "\n",
    "    # defining function\n",
    "def conversion_rate(clicks : int, conversions : int) -> str:\n",
    "    \"\"\"\n",
    "    Calculate the conversion rate in percent rounded to 2 decimal places.\n",
    "\n",
    "    :param: click: int, number of clicks\n",
    "    :param: conversions: int, number of conversions\n",
    "\n",
    "    :return: conversion_rate: str, a message stating the conversion rate in percent rounded to 2 decimal places\n",
    "\n",
    "    :raises: ValueError, when clicks or conversions cannot be converted to int, or when clicks or conversions are negative, or when clicks < conversions\n",
    "    :raises: ZeroDivisionError, when clicks (divisor in the formula) is 0\n",
    "    \"\"\"\n",
    "    try:\n",
    "        clicks, conversions = int(clicks), int(conversions)\n",
    "    except ValueError:\n",
    "        raise ValueError(f\"Input type is not correct. Clicks:{clicks}, conversions:{conversions}\")\n",
    "    \n",
    "    if clicks == 0:\n",
    "        raise ZeroDivisionError(f\"Number of click is 0, division by zero is not allowed. Clicks:{clicks}\")\n",
    "    elif clicks < 0 or conversions < 0:\n",
    "        raise ValueError(f\"Negative number in the input, {clicks if (clicks < 0) else conversions}\")\n",
    "    elif clicks < conversions:\n",
    "        raise ValueError(f\"Number of clicks cannot be less than the number of conversions. Clicks:{clicks}, conversions:{conversions}\")\n",
    "\n",
    "    cr = conversions / clicks\n",
    "        \n",
    "    print(f\"Total clicks: {clicks} \\nTotal conversions: {conversions} \\n\")\n",
    "    return(f\"Conversion Rate: {cr:.2%}\")\n",
    "\n",
    "    # calling function\n",
    "conversion_rate(input(), input())\n"
   ]
  },
  {
   "cell_type": "markdown",
   "metadata": {},
   "source": [
    "### **_6. Case-fill rate (CFR)_**\n",
    "\n",
    "\n",
    "CFR is a widespread metric in FMCG to assess how successfull the product suplly is. In essence, it shows the percentage of shipped orders in relation to some obstacles such as returns, cuts or other distribution-related problems. It allows to root-cause whether the falling sellout is related to distribution/pricing problems or whether it is the product supply that failed to simply deliver the orders. An industry-standard for CFR revolves around 95%, if the metric is below that level - you can infer that you have some serious product supply issues. \n",
    "\n",
    "The CFR formula can vary, but the most general is $CFR =$ $S\\over S + C$ , where $S$ is the number of total cases shipped, $C$ is the number of total cases cut\n",
    "\n",
    "**Input.**  \n",
    "- String arguments are to be inputed, and are tranformed to integers in the function. Int type is chosen because number of cases shipments and cuts is usually a positive whole number. \n",
    "\n",
    "**I consider several cases of possible incorrect inputs.**  \n",
    "- The script will raise the ZeroDivisionError when both inputs are zero.\n",
    "- The script will raise the ValueError when it cannot convert the input to integer, or when either value is negative.\n",
    "\n",
    "\n",
    "**Output.**  \n",
    "The output `prints` the inputed values for validation purposes. The output `returns` the message showing the case fill rate in percents rounded to 1 decimal place."
   ]
  },
  {
   "cell_type": "code",
   "execution_count": 148,
   "metadata": {},
   "outputs": [
    {
     "name": "stdout",
     "output_type": "stream",
     "text": [
      "Total shipments: 100 \n",
      "Total cuts: 10 \n",
      "\n"
     ]
    },
    {
     "data": {
      "text/plain": [
       "'Case Fill Rate = 90.9%'"
      ]
     },
     "execution_count": 148,
     "metadata": {},
     "output_type": "execute_result"
    }
   ],
   "source": [
    "# Case-fill rate\n",
    "\n",
    "def case_fill_rate(shipments : int, cuts : int) -> str:\n",
    "    \"\"\" \n",
    "    Calculate case fill rate in percent rounded to 1 decimal place.\n",
    "\n",
    "    :param: shipments: int, number of total units shipped\n",
    "    :param: cuts: int, number of total units not accepted or returned\n",
    "\n",
    "    :return: case fill rate: str, a message stating the case fill rate metric rounded to 1 decimal place\n",
    "\n",
    "    :raises: ValueError, when either shipments or cuts are entered not as an int\n",
    "    :raises: ZeroDivisionError, when both shipments and cuts are equal to zero, meaning no orders were made, or either shipments or cuts value is negative\n",
    "    \"\"\"\n",
    "    try:\n",
    "        shipments, cuts = int(shipments), int(cuts)\n",
    "    except ValueError:\n",
    "        raise ValueError(f\"Input type is not int. Shipments entered:{shipments}, cuts entered:{cuts}\")\n",
    "\n",
    "    if shipments == 0 and cuts == 0:\n",
    "        raise ZeroDivisionError(\"No orders were made. No proper data to calculate the metric.\")\n",
    "    elif shipments < 0 or cuts < 0:\n",
    "        raise ValueError(f\"Negative number in the input, {shipments if (shipments < 0) else cuts}\")\n",
    "    \n",
    "    cfr = shipments / (shipments + cuts)\n",
    "\n",
    "        \n",
    "    print(f\"Total shipments: {shipments} \\nTotal cuts: {cuts} \\n\")\n",
    "    return(f\"Case Fill Rate = {cfr:.1%}\")\n",
    "\n",
    "    # calling function\n",
    "case_fill_rate(input(), input())"
   ]
  },
  {
   "cell_type": "markdown",
   "metadata": {},
   "source": [
    "### **_7. Customer Retention Rate (CRR)_**\n",
    "\n",
    "Customer retention rate is a widespread metric to assess the success of acquisition of new customers, and more importantly, retention of old customers. It can help to interpret the loyatly towards the brand, product, service, etc. It is easy to calculate as it's based only on the number of customers (splitted intwo 3 logical groups). Since customer data is a cornerstone of the any data-driven company, CRR becomes essential for A/B testing and asssessment of success-level of some promotial campaigns.\n",
    "\n",
    "The CRR formula can be represented as $CRR =$ $E - N \\over I$ , where $E$ is the number of existing customers at the moment of calculation, $N$ is the number of new customers aquired over the period, and $I$ is the number of the initial customers of compared period.\n",
    "\n",
    "**Input.**  \n",
    "- String arguments are the expected inputs, and then strings are tranformed to integers. Int type is chosen because we consider customers, and customers are most generally represented by the positive whole number. \n",
    "\n",
    "**I consider several cases of possible incorrect inputs.**  \n",
    "- The script will raise the ZeroDivisionError when number of initial customers is zero.\n",
    "- The script will raise the ValueError when it is impossible to convert the input to integer, or when either input is negative.\n",
    "\n",
    "**Output.**  \n",
    "The output `prints` the inputed values for validation purposes. The output `returns` the message showing the customer retention rate in percents rounded to 1 decimal place."
   ]
  },
  {
   "cell_type": "code",
   "execution_count": 150,
   "metadata": {},
   "outputs": [
    {
     "name": "stdout",
     "output_type": "stream",
     "text": [
      "Total number of existing customers: 100 \n",
      "Total number of new customers: 50 \n",
      "Total initial number of customers: 130 \n",
      "\n"
     ]
    },
    {
     "data": {
      "text/plain": [
       "'Customer Retention Rate = 38.5%'"
      ]
     },
     "execution_count": 150,
     "metadata": {},
     "output_type": "execute_result"
    }
   ],
   "source": [
    "# Customer Retention Rate\n",
    "\n",
    "def customer_retention_rate(existing: int, new: int, initial: int) -> str:\n",
    "    \"\"\"\n",
    "    Calculate the customer retentiton rate in percent rounded to 1 decimal place.\n",
    "\n",
    "    :param: existing: int, number of customers currently\n",
    "    :param: new: int, number of customers acquired since the beginning of the observed period\n",
    "    :param: initial: int, number of customers at the beginning of the observed period\n",
    "\n",
    "    :return: customer retentiton rate: str, a message stating the customer retention rate in percent rounded to 1 decimal place.\n",
    "\n",
    "    :raises: ValueError, when either input cannot be transformed to int, or when either input is negative\n",
    "    :raises: ZeroDivisionError, when the number of initial customers is 0\n",
    "    \"\"\"\n",
    "\n",
    "    try:\n",
    "        existing, new, initial = int(existing), int(new), int(initial)\n",
    "    except ValueError:\n",
    "        raise ValueError(f\"Input type is not int. Number of customers entered: existing:{existing}, new:{new}, initial:{initial}\")\n",
    "\n",
    "    if existing < 0 or new < 0 or initial < 0:\n",
    "        raise ValueError(f\"Negative value(-s) in the input, {[i for i in (existing, new, initial) if (i < 0)]}\")\n",
    "    elif initial == 0:\n",
    "        raise ZeroDivisionError(f\"The number of initial customers is {initial}, impossible to calculate the retention rate\")\n",
    "\n",
    "    crr = (existing - new) / initial\n",
    "        \n",
    "    print(f\"Total number of existing customers: {existing} \\nTotal number of new customers: {new} \\nTotal initial number of customers: {initial} \\n\")\n",
    "    return(f\"Customer Retention Rate = {crr:.1%}\")\n",
    "\n",
    "    # calling function\n",
    "customer_retention_rate(input(), input(), input())"
   ]
  },
  {
   "cell_type": "markdown",
   "metadata": {},
   "source": [
    "### **_8. Customer Acquisition Cost (CAC)_**\n",
    "\n",
    "Customer Acquisition Cost (CAC) represents the total costs to acquire a certain customer. This metric is proved to be useful when deciding upon resegmentation of your customers (for instance, when you want to move towards premiumisation of your portfolio). CAC allows to determine profitability of such shifts, or in general helps to decidde whether customer aqcuisition is worth the money or not.\n",
    "\n",
    "Industry-standard CAC formula: $SC + MC \\over AC$, where $SC$ represents total sales costs, $MC$ represents marketing costs, $AC$ represents total the number of acquired customers$"
   ]
  },
  {
   "cell_type": "code",
   "execution_count": 16,
   "metadata": {},
   "outputs": [
    {
     "name": "stdout",
     "output_type": "stream",
     "text": [
      "Total sales costs: 10000 \n",
      "Total marketing costs: 50000 \n",
      "Total number of acquired customers: 75 \n",
      "\n"
     ]
    },
    {
     "data": {
      "text/plain": [
       "'Customer acuisition cost = 800.0'"
      ]
     },
     "execution_count": 16,
     "metadata": {},
     "output_type": "execute_result"
    }
   ],
   "source": [
    "# Customer Retention Rate\n",
    "\n",
    "def customer_acquisition_cost(sales_cost: int, marketing_cost: int, customers_acquired: int) -> str:\n",
    "    \"\"\"\n",
    "    Calculate the customer acquisition cost in currency entered rounded to 1 decimal place.\n",
    "\n",
    "    :param: sales_cost: int, total sales costs over the selected period\n",
    "    :param: marketing_cost: int, total marketing costs over the selected period\n",
    "    :param: customers_acquired: int, number of customers acquired over the selected period\n",
    "\n",
    "    :return: customer aquisition cost: str, a message stating the CAC rounded to 1 decimal places.\n",
    "\n",
    "    :raises: ValueError, when either input cannot be transformed to int, or when either input is negative\n",
    "    :raises: ZeroDivisionError, when the number of acuqired customers is 0\n",
    "    \"\"\"\n",
    "\n",
    "    try:\n",
    "        sales_cost, marketing_cost, customers_acquired = int(sales_cost), int(marketing_cost), int(customers_acquired)\n",
    "    except ValueError:\n",
    "        raise ValueError(f\"Input type is not int. Inputs entered: existing:{sales_cost}, new:{marketing_cost}, initial:{customers_acquired}\")\n",
    "\n",
    "    if sales_cost < 0 or marketing_cost < 0 or customers_acquired < 0:\n",
    "        raise ValueError(f\"Negative value(-s) in the input, {[i for i in (sales_cost, marketing_cost, customers_acquired) if (i < 0)]}\")\n",
    "    elif customers_acquired == 0:\n",
    "        raise ZeroDivisionError(f\"The number of acquired customers is {customers_acquired}, impossible to calculate the acquisition cost\")\n",
    "\n",
    "    cac = (sales_cost + marketing_cost) / customers_acquired\n",
    "        \n",
    "    print(f\"Total sales costs: {sales_cost} \\nTotal marketing costs: {marketing_cost} \\nTotal number of acquired customers: {customers_acquired} \\n\")\n",
    "    return(f\"Customer acuisition cost = {cac:.1f}\")\n",
    "\n",
    "    # calling function\n",
    "customer_acquisition_cost(input(), input(), input())"
   ]
  }
 ],
 "metadata": {
  "kernelspec": {
   "display_name": "Python 3.9.12 ('base')",
   "language": "python",
   "name": "python3"
  },
  "language_info": {
   "codemirror_mode": {
    "name": "ipython",
    "version": 3
   },
   "file_extension": ".py",
   "mimetype": "text/x-python",
   "name": "python",
   "nbconvert_exporter": "python",
   "pygments_lexer": "ipython3",
   "version": "3.9.12"
  },
  "orig_nbformat": 4,
  "vscode": {
   "interpreter": {
    "hash": "cd78fef2128015050713e82ca51c6520b11aee7c9ee8df750520bbbc7384cbaa"
   }
  }
 },
 "nbformat": 4,
 "nbformat_minor": 2
}
